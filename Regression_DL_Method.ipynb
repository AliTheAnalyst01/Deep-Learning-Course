{
 "cells": [
  {
   "cell_type": "markdown",
   "metadata": {},
   "source": [
    "# Regression in DL with TensorFlow"
   ]
  },
  {
   "cell_type": "code",
   "execution_count": 2,
   "metadata": {},
   "outputs": [
    {
     "name": "stdout",
     "output_type": "stream",
     "text": [
      "tensorflow: 2.10.0\n"
     ]
    }
   ],
   "source": [
    "# import library for regression problem\n",
    "import pandas as pd \n",
    "import numpy as np\n",
    "import seaborn as sns\n",
    "import matplotlib.pyplot as plt\n",
    "from sklearn.model_selection import train_test_split\n",
    "from sklearn.preprocessing import StandardScaler,LabelEncoder\n",
    "import tensorflow as tf\n",
    "print('tensorflow:',tf.__version__)"
   ]
  },
  {
   "cell_type": "code",
   "execution_count": 3,
   "metadata": {},
   "outputs": [
    {
     "data": {
      "text/html": [
       "<div>\n",
       "<style scoped>\n",
       "    .dataframe tbody tr th:only-of-type {\n",
       "        vertical-align: middle;\n",
       "    }\n",
       "\n",
       "    .dataframe tbody tr th {\n",
       "        vertical-align: top;\n",
       "    }\n",
       "\n",
       "    .dataframe thead th {\n",
       "        text-align: right;\n",
       "    }\n",
       "</style>\n",
       "<table border=\"1\" class=\"dataframe\">\n",
       "  <thead>\n",
       "    <tr style=\"text-align: right;\">\n",
       "      <th></th>\n",
       "      <th>carat</th>\n",
       "      <th>cut</th>\n",
       "      <th>color</th>\n",
       "      <th>clarity</th>\n",
       "      <th>depth</th>\n",
       "      <th>table</th>\n",
       "      <th>price</th>\n",
       "      <th>x</th>\n",
       "      <th>y</th>\n",
       "      <th>z</th>\n",
       "    </tr>\n",
       "  </thead>\n",
       "  <tbody>\n",
       "    <tr>\n",
       "      <th>0</th>\n",
       "      <td>0.23</td>\n",
       "      <td>Ideal</td>\n",
       "      <td>E</td>\n",
       "      <td>SI2</td>\n",
       "      <td>61.5</td>\n",
       "      <td>55.0</td>\n",
       "      <td>326</td>\n",
       "      <td>3.95</td>\n",
       "      <td>3.98</td>\n",
       "      <td>2.43</td>\n",
       "    </tr>\n",
       "    <tr>\n",
       "      <th>1</th>\n",
       "      <td>0.21</td>\n",
       "      <td>Premium</td>\n",
       "      <td>E</td>\n",
       "      <td>SI1</td>\n",
       "      <td>59.8</td>\n",
       "      <td>61.0</td>\n",
       "      <td>326</td>\n",
       "      <td>3.89</td>\n",
       "      <td>3.84</td>\n",
       "      <td>2.31</td>\n",
       "    </tr>\n",
       "    <tr>\n",
       "      <th>2</th>\n",
       "      <td>0.23</td>\n",
       "      <td>Good</td>\n",
       "      <td>E</td>\n",
       "      <td>VS1</td>\n",
       "      <td>56.9</td>\n",
       "      <td>65.0</td>\n",
       "      <td>327</td>\n",
       "      <td>4.05</td>\n",
       "      <td>4.07</td>\n",
       "      <td>2.31</td>\n",
       "    </tr>\n",
       "    <tr>\n",
       "      <th>3</th>\n",
       "      <td>0.29</td>\n",
       "      <td>Premium</td>\n",
       "      <td>I</td>\n",
       "      <td>VS2</td>\n",
       "      <td>62.4</td>\n",
       "      <td>58.0</td>\n",
       "      <td>334</td>\n",
       "      <td>4.20</td>\n",
       "      <td>4.23</td>\n",
       "      <td>2.63</td>\n",
       "    </tr>\n",
       "    <tr>\n",
       "      <th>4</th>\n",
       "      <td>0.31</td>\n",
       "      <td>Good</td>\n",
       "      <td>J</td>\n",
       "      <td>SI2</td>\n",
       "      <td>63.3</td>\n",
       "      <td>58.0</td>\n",
       "      <td>335</td>\n",
       "      <td>4.34</td>\n",
       "      <td>4.35</td>\n",
       "      <td>2.75</td>\n",
       "    </tr>\n",
       "  </tbody>\n",
       "</table>\n",
       "</div>"
      ],
      "text/plain": [
       "   carat      cut color clarity  depth  table  price     x     y     z\n",
       "0   0.23    Ideal     E     SI2   61.5   55.0    326  3.95  3.98  2.43\n",
       "1   0.21  Premium     E     SI1   59.8   61.0    326  3.89  3.84  2.31\n",
       "2   0.23     Good     E     VS1   56.9   65.0    327  4.05  4.07  2.31\n",
       "3   0.29  Premium     I     VS2   62.4   58.0    334  4.20  4.23  2.63\n",
       "4   0.31     Good     J     SI2   63.3   58.0    335  4.34  4.35  2.75"
      ]
     },
     "execution_count": 3,
     "metadata": {},
     "output_type": "execute_result"
    }
   ],
   "source": [
    "df = sns.load_dataset('diamonds')\n",
    "df.head()"
   ]
  },
  {
   "cell_type": "code",
   "execution_count": 4,
   "metadata": {},
   "outputs": [],
   "source": [
    "# preprocessing\n",
    "X = df.drop('price',axis=1)\n",
    "y= df['price']\n",
    "\n",
    "# encode the categorical variable \n",
    "le = LabelEncoder()\n",
    "X['cut'] = le.fit_transform(X['cut'])\n",
    "X['color'] = le.fit_transform(X['color'])\n",
    "X['clarity'] = le.fit_transform(X['clarity'])\n",
    "\n",
    "# Train test split the data\n",
    "X_train,X_test,y_train,y_test = train_test_split(X,y,test_size=0.2,random_state=42)\n",
    "\n",
    "# Standard the data \n",
    "scaler = StandardScaler()\n",
    "X_train = scaler.fit_transform(X_train)\n",
    "X_test = scaler.fit_transform(X_test)"
   ]
  },
  {
   "cell_type": "code",
   "execution_count": 5,
   "metadata": {},
   "outputs": [],
   "source": [
    "# create neural network \n",
    "model = tf.keras.models.Sequential([\n",
    "    tf.keras.layers.InputLayer(input_shape=X_train.shape[1:]), # input layer without any activation function\n",
    "    tf.keras.layers.Dense(16,activation='relu'), #hidden layer with 16 neurons and relu function \n",
    "    tf.keras.layers.Dense(1) # output layer with 1 neuron\n",
    "])"
   ]
  },
  {
   "cell_type": "code",
   "execution_count": 6,
   "metadata": {},
   "outputs": [],
   "source": [
    "# compile the model \n",
    "model.compile(optimizer='adam',loss='mean_squared_error'\n",
    ")"
   ]
  },
  {
   "cell_type": "code",
   "execution_count": 7,
   "metadata": {},
   "outputs": [],
   "source": [
    "# train the model \n",
    "#model.fit(X_train,y_train,epochs=100,batch_size=32,verbose=1)"
   ]
  },
  {
   "cell_type": "markdown",
   "metadata": {},
   "source": [
    "its take uhuge time on my machine now we train the model with the validation data "
   ]
  },
  {
   "cell_type": "code",
   "execution_count": 8,
   "metadata": {},
   "outputs": [
    {
     "name": "stdout",
     "output_type": "stream",
     "text": [
      "Epoch 1/10\n",
      "1079/1079 [==============================] - 53s 42ms/step - loss: 31009942.0000 - val_loss: 30797006.0000\n",
      "Epoch 2/10\n",
      "1079/1079 [==============================] - 44s 40ms/step - loss: 29226524.0000 - val_loss: 28239358.0000\n",
      "Epoch 3/10\n",
      "1079/1079 [==============================] - 46s 43ms/step - loss: 26157528.0000 - val_loss: 24648096.0000\n",
      "Epoch 4/10\n",
      "1079/1079 [==============================] - 49s 45ms/step - loss: 22275282.0000 - val_loss: 20430110.0000\n",
      "Epoch 5/10\n",
      "1079/1079 [==============================] - 51s 47ms/step - loss: 18096554.0000 - val_loss: 16191029.0000\n",
      "Epoch 6/10\n",
      "1079/1079 [==============================] - 54s 50ms/step - loss: 14093352.0000 - val_loss: 12293215.0000\n",
      "Epoch 7/10\n",
      "1079/1079 [==============================] - 44s 41ms/step - loss: 10578005.0000 - val_loss: 9018005.0000\n",
      "Epoch 8/10\n",
      "1079/1079 [==============================] - 48s 44ms/step - loss: 7748001.0000 - val_loss: 6485652.0000\n",
      "Epoch 9/10\n",
      "1079/1079 [==============================] - 50s 46ms/step - loss: 5682787.0000 - val_loss: 4724740.5000\n",
      "Epoch 10/10\n",
      "1079/1079 [==============================] - 61s 57ms/step - loss: 4336861.0000 - val_loss: 3639303.0000\n"
     ]
    },
    {
     "data": {
      "text/plain": [
       "<keras.callbacks.History at 0x17b003ca2c0>"
      ]
     },
     "execution_count": 8,
     "metadata": {},
     "output_type": "execute_result"
    }
   ],
   "source": [
    "model.fit(X_train,y_train,epochs=10,verbose=1,validation_split=0.2)"
   ]
  },
  {
   "cell_type": "code",
   "execution_count": 18,
   "metadata": {},
   "outputs": [
    {
     "name": "stdout",
     "output_type": "stream",
     "text": [
      "338/338 [==============================] - 18s 48ms/step - loss: 1523336.6250\n",
      "Test loss:1523336.625\n",
      "338/338 [==============================] - 9s 24ms/step - loss: 0.0000e+00\n"
     ]
    }
   ],
   "source": [
    "# test loss of the model\n",
    "loss = model.evaluate(X_test,y_test)\n",
    "print(f'Test loss:{loss}')\n",
    "\n",
    "# evalute the validation loss of the model\n",
    "loss = model.evaluate(X_test)"
   ]
  },
  {
   "cell_type": "code",
   "execution_count": 12,
   "metadata": {},
   "outputs": [
    {
     "name": "stdout",
     "output_type": "stream",
     "text": [
      "Epoch 1/15\n",
      "   6/1079 [..............................] - ETA: 2:10 - loss: 3550466.0000"
     ]
    },
    {
     "name": "stdout",
     "output_type": "stream",
     "text": [
      "1079/1079 [==============================] - 82s 75ms/step - loss: 3512088.0000 - val_loss: 2970433.5000\n",
      "Epoch 2/15\n",
      "1079/1079 [==============================] - 50s 46ms/step - loss: 3011188.0000 - val_loss: 2567795.2500\n",
      "Epoch 3/15\n",
      "1079/1079 [==============================] - 47s 43ms/step - loss: 2688539.0000 - val_loss: 2294411.0000\n",
      "Epoch 4/15\n",
      "1079/1079 [==============================] - 49s 45ms/step - loss: 2455332.2500 - val_loss: 2088778.7500\n",
      "Epoch 5/15\n",
      "1079/1079 [==============================] - 58s 53ms/step - loss: 2275472.7500 - val_loss: 1932452.3750\n",
      "Epoch 6/15\n",
      "1079/1079 [==============================] - 45s 42ms/step - loss: 2137113.7500 - val_loss: 1812973.5000\n",
      "Epoch 7/15\n",
      "1079/1079 [==============================] - 42s 39ms/step - loss: 2033450.1250 - val_loss: 1726975.5000\n",
      "Epoch 8/15\n",
      "1079/1079 [==============================] - 48s 45ms/step - loss: 1958612.8750 - val_loss: 1666887.3750\n",
      "Epoch 9/15\n",
      "1079/1079 [==============================] - 46s 43ms/step - loss: 1907131.8750 - val_loss: 1626305.8750\n",
      "Epoch 10/15\n",
      "1079/1079 [==============================] - 44s 41ms/step - loss: 1871882.0000 - val_loss: 1599438.6250\n",
      "Epoch 11/15\n",
      "1079/1079 [==============================] - 53s 49ms/step - loss: 1847023.2500 - val_loss: 1581284.3750\n",
      "Epoch 12/15\n",
      "1079/1079 [==============================] - 44s 40ms/step - loss: 1829088.5000 - val_loss: 1568131.8750\n",
      "Epoch 13/15\n",
      "1079/1079 [==============================] - 47s 43ms/step - loss: 1815168.8750 - val_loss: 1557572.2500\n",
      "Epoch 14/15\n",
      "1079/1079 [==============================] - 49s 46ms/step - loss: 1803742.6250 - val_loss: 1548816.0000\n",
      "Epoch 15/15\n",
      "1079/1079 [==============================] - 52s 48ms/step - loss: 1793483.1250 - val_loss: 1541533.3750\n"
     ]
    },
    {
     "data": {
      "text/plain": [
       "<keras.callbacks.History at 0x17b021f3700>"
      ]
     },
     "execution_count": 12,
     "metadata": {},
     "output_type": "execute_result"
    }
   ],
   "source": [
    "# use the call back system\n",
    "from tensorflow.keras.callbacks import EarlyStopping\n",
    "\n",
    "early_stopping = EarlyStopping(monitor='val_loss', # thsi command is used to monitor the validation loss\n",
    "                               patience=2, # number of epochs to wait before stopping the training\n",
    "                               restore_best_weights=True) # This command is used to restore the best weights of the model\n",
    "\n",
    "\n",
    "\n",
    "\n",
    "model.fit(\n",
    "    X_train,y_train,\n",
    "    epochs=15,\n",
    "    validation_split=0.2, # this command is used to split the data into train and validation set\n",
    "    callbacks=[early_stopping],\n",
    ")"
   ]
  },
  {
   "cell_type": "code",
   "execution_count": 14,
   "metadata": {},
   "outputs": [
    {
     "name": "stdout",
     "output_type": "stream",
     "text": [
      "Trian for 15 epochs\n"
     ]
    }
   ],
   "source": [
    "print(f'Trian for {len(model.history.epoch)} epochs')"
   ]
  },
  {
   "cell_type": "code",
   "execution_count": 24,
   "metadata": {},
   "outputs": [
    {
     "name": "stdout",
     "output_type": "stream",
     "text": [
      "Epoch 1/5\n",
      "1079/1079 [==============================] - 94s 86ms/step - loss: 1784137.0000 - val_loss: 1534266.7500\n",
      "Epoch 2/5\n",
      "1079/1079 [==============================] - 78s 72ms/step - loss: 1775839.2500 - val_loss: 1527525.6250\n",
      "Epoch 3/5\n",
      "1079/1079 [==============================] - 69s 64ms/step - loss: 1767130.8750 - val_loss: 1521214.7500\n",
      "Epoch 4/5\n",
      "1079/1079 [==============================] - 69s 64ms/step - loss: 1759254.0000 - val_loss: 1515700.7500\n",
      "Epoch 5/5\n",
      "1079/1079 [==============================] - 35s 33ms/step - loss: 1751875.0000 - val_loss: 1510140.2500\n"
     ]
    }
   ],
   "source": [
    "history = model.fit(\n",
    "    X_train,y_train,\n",
    "    epochs=5,\n",
    "    validation_split=0.2, # this command is used to split the data into train and validation set\n",
    "    callbacks=[early_stopping]\n",
    ")"
   ]
  },
  {
   "cell_type": "code",
   "execution_count": 25,
   "metadata": {},
   "outputs": [
    {
     "data": {
      "image/png": "[encoded data removed]",
      "text/plain": [
       "<Figure size 640x480 with 1 Axes>"
      ]
     },
     "metadata": {},
     "output_type": "display_data"
    }
   ],
   "source": [
    "# plot the training and validation loss here \n",
    "plt.plot(history.history['loss'])\n",
    "plt.plot(history.history['val_loss'])\n",
    "plt.title('model loss')\n",
    "plt.ylabel('loss')\n",
    "plt.xlabel('epoch')\n",
    "plt.legend(['train','validation'],loc='upper left')\n",
    "plt.show()"
   ]
  },
  {
   "cell_type": "markdown",
   "metadata": {},
   "source": [
    "# now we use the two hidden layer for the comparison of the loss"
   ]
  },
  {
   "cell_type": "code",
   "execution_count": 30,
   "metadata": {},
   "outputs": [
    {
     "name": "stdout",
     "output_type": "stream",
     "text": [
      "Epoch 1/5\n",
      "1079/1079 [==============================] - 83s 63ms/step - loss: 18321228.0000 - val_loss: 2995839.5000\n",
      "Epoch 2/5\n",
      "1079/1079 [==============================] - 55s 51ms/step - loss: 2315562.5000 - val_loss: 1590657.1250\n",
      "Epoch 3/5\n",
      "1079/1079 [==============================] - 61s 57ms/step - loss: 1838799.0000 - val_loss: 1484353.7500\n",
      "Epoch 4/5\n",
      "1079/1079 [==============================] - 66s 61ms/step - loss: 1761299.1250 - val_loss: 1439829.1250\n",
      "Epoch 5/5\n",
      "1079/1079 [==============================] - 70s 65ms/step - loss: 1708324.1250 - val_loss: 1407263.5000\n"
     ]
    }
   ],
   "source": [
    "# import library for regression problem\n",
    "import pandas as pd \n",
    "import numpy as np\n",
    "import seaborn as sns\n",
    "import matplotlib.pyplot as plt\n",
    "from sklearn.model_selection import train_test_split\n",
    "from sklearn.preprocessing import StandardScaler,LabelEncoder\n",
    "import tensorflow as tf\n",
    "\n",
    "df = sns.load_dataset('diamonds')\n",
    "\n",
    "# preprocessing\n",
    "X = df.drop('price',axis=1)\n",
    "y= df['price']\n",
    "\n",
    "# encode the categorical variable \n",
    "le = LabelEncoder()\n",
    "X['cut'] = le.fit_transform(X['cut'])\n",
    "X['color'] = le.fit_transform(X['color'])\n",
    "X['clarity'] = le.fit_transform(X['clarity'])\n",
    "\n",
    "# Train test split the data\n",
    "X_train,X_test,y_train,y_test = train_test_split(X,y,test_size=0.2,random_state=42)\n",
    "\n",
    "# Standard the data \n",
    "scaler = StandardScaler()\n",
    "X_train = scaler.fit_transform(X_train)\n",
    "X_test = scaler.fit_transform(X_test)\n",
    "\n",
    "model = tf.keras.models.Sequential([\n",
    "    tf.keras.layers.InputLayer(input_shape=X_train.shape[1:]), # input layer without any activation function\n",
    "    tf.keras.layers.Dense(32,activation='relu'),\n",
    "     tf.keras.layers.Dense(16,activation='relu'),#hidden layer with 16 neurons and relu function \n",
    "    tf.keras.layers.Dense(1) # output layer with 1 neuron\n",
    "])\n",
    "\n",
    "# compile the model \n",
    "model.compile(optimizer='adam',loss='mean_squared_error')\n",
    "# use the call back system\n",
    "from tensorflow.keras.callbacks import EarlyStopping\n",
    "\n",
    "early_stopping = EarlyStopping(monitor='val_loss', # thsi command is used to monitor the validation loss\n",
    "                               patience=2, # number of epochs to wait before stopping the training\n",
    "                               restore_best_weights=True) # This command is used to restore the best weights of the model\n",
    "\n",
    "history = model.fit(\n",
    "    X_train,y_train,\n",
    "    epochs=5,\n",
    "    validation_split=0.2, # this command is used to split the data into train and validation set\n",
    "    callbacks=[early_stopping]\n",
    ")"
   ]
  },
  {
   "cell_type": "code",
   "execution_count": 31,
   "metadata": {},
   "outputs": [
    {
     "data": {
      "image/png": "[encoded data removed]",
      "text/plain": [
       "<Figure size 640x480 with 1 Axes>"
      ]
     },
     "metadata": {},
     "output_type": "display_data"
    }
   ],
   "source": [
    "# plot the training and validation loss here \n",
    "plt.plot(history.history['loss'])\n",
    "plt.plot(history.history['val_loss'])\n",
    "plt.title('model loss')\n",
    "plt.ylabel('loss')\n",
    "plt.xlabel('epoch')\n",
    "plt.legend(['train','validation'],loc='upper left')\n",
    "plt.show()"
   ]
  },
  {
   "cell_type": "markdown",
   "metadata": {},
   "source": [
    "its means when we give the wieghts and bisa at the start on the first hidden layer this was take randomize and when it go back with backpropagation derivative pass through the second hidden layer "
   ]
  },
  {
   "cell_type": "markdown",
   "metadata": {},
   "source": []
  }
 ],
 "metadata": {
  "kernelspec": {
   "display_name": "deeplearning",
   "language": "python",
   "name": "python3"
  },
  "language_info": {
   "codemirror_mode": {
    "name": "ipython",
    "version": 3
   },
   "file_extension": ".py",
   "mimetype": "text/x-python",
   "name": "python",
   "nbconvert_exporter": "python",
   "pygments_lexer": "ipython3",
   "version": "3.10.13"
  },
  "orig_nbformat": 4
 },
 "nbformat": 4,
 "nbformat_minor": 2
}
