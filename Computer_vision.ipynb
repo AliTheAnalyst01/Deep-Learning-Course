{
 "cells": [
  {
   "cell_type": "markdown",
   "metadata": {},
   "source": [
    "# Layout \n",
    "* Introduction to images\n",
    "* Read data\n",
    "    * images\n",
    "    * video\n",
    "    * Webcam\n",
    "* Important function to be used in OPen CV\n",
    "* Scaling or NOrmalizing images \n",
    "* Adding objects to Images\n",
    "* Wrap and Prespectives\n",
    "* Joining Images\n",
    "* Color Detection\n",
    "* Edge Detection\n",
    "* Face Detection\n",
    "* Project:\n",
    "   * Car Counter\n",
    "   * Face Detection and much more..."
   ]
  },
  {
   "cell_type": "markdown",
   "metadata": {},
   "source": [
    "# pixel\n",
    "**Basic unit of images**\n",
    "\n",
    "A minute area of illumination on a display screen, one of many from which an images is composed.\n",
    " PPI: pixel per inch\n",
    "\n",
    " There are three kind of the images \n",
    " 1. bitonal black(0) white(1)\n",
    " 2. grayscale 0 to 256 grey = 1-255 , black=0,white=1\n",
    " 3. RGB red,green,blue\n",
    "   \n",
    "# No. of Tunes in an image\n",
    "1 bit(2)^1 = 2 tones\n",
    "\n",
    "2 bit(2)^2 = 4 tones\n",
    "\n",
    "    .\n",
    "    .\n",
    "    .\n",
    "\n",
    "# Intro of video\n",
    "it is a sqeunce of images"
   ]
  },
  {
   "cell_type": "markdown",
   "metadata": {},
   "source": [
    "# working with the Fasion MNist image dataset"
   ]
  },
  {
   "cell_type": "code",
   "execution_count": null,
   "metadata": {},
   "outputs": [],
   "source": []
  }
 ],
 "metadata": {
  "kernelspec": {
   "display_name": "open_cv",
   "language": "python",
   "name": "python3"
  },
  "language_info": {
   "name": "python",
   "version": "3.11.5"
  },
  "orig_nbformat": 4
 },
 "nbformat": 4,
 "nbformat_minor": 2
}
