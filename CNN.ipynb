{
 "cells": [
  {
   "cell_type": "markdown",
   "metadata": {},
   "source": [
    "# CNN (Convolutional neural network)\n",
    "**useful for the unstructured data It is widely use for image classification and identification,object detection**\n",
    "There are two main thing in the image classification\n",
    "* Pixel\n",
    "* Edge detection\n",
    "\n",
    "**Relu activation function is more effective function for the image classification sigmoid function is use for black white image also tanh or softmax**\n",
    "\n",
    "### Key Concept about CNN\n",
    "* `Pooling :` It takes the subsample metrics through the inner or hidden layer of CNN and reduce the dimension of that metrics e.g the metrcs with dimention 3*4 pooling reduce it into the 2*3 metrics and gradually decrease it so in other word it is use as a dimensionalty reduction of metrics or also called feature selection in this method all the information always retain in the form of translation in varience\n",
    "* `Activation function`\n",
    "\n",
    "### From the blog information about the CNN\n",
    "* **What is CNN:**\n",
    "  Computer vision is evolving rapidly day by day. Its one of the reason is deep learning. When we talk about the computer vision a term `Convolutional neural network` comes in mind because CNN is heavily used here. Example of CNN in Computer vision are face recognition,image classification etc. It is similar to the basic neural network, CNN also have learnable parameter like a neural network weight and biase tc\n",
    "* **Why should we use CNN**\n",
    "  `Problem with Feedforward Neural Network ` Suppose you are working with MNIST dataset, you Know each image in 28*28*1 Total number of neurons in input layer will 28*28= 784, This can be manageabel , What if the size of image is 1000*1000 which mean you need 10^6 neurons in input layer. This seems a huge number of neurons are required for operation. it is computationaly ineffective right. So here comes Convolutional Neural Network or CNN, In simple word CNN extract the feature of image and convert it into lower dimention without loosing its characterstics. In the following example you can see that initial the size of image is 224*224*3. if you proceed without convolution then you need 100352 numbers of neurons in input layer but after applying convolution you input tensor dimension is reduced to 1*1*1000 it means you only need 1000 neurons in the first layer of feedforward neural network\n",
    "\n",
    " **Few Defination**\n",
    "* Image representaion\n",
    "  Thinking about the image, its easy to understand tah it has a height and width , so it would make sense to represent the information contained in it with a two dimensional structure (matrix) until you remembered that image have color and to add information about the color, Images are encoded into color channels the images data is represented into each color intensity in a color channel at a given point, The most common one being RGB,which means `Red,Green,Blue` so the intensity of the red channel at each point with width and height can be represented into a matrix, we end up having three matrics, and when these are combined they form a tensor \n",
    "* Edge Detection\n",
    "  Every image has vertical and horizantal edge which actually combining to form a image . Convolution opertion is used with some fillters for the detecting edges.Suppose you have gray scale image with dimension 6*6 and filter we get 4*4(always take filter less than the dimension of image) \n",
    "e.g let's suppose our image dimension is 4*4 and filter is 3*3 we get the output after convolution is 2*2\n",
    "\n",
    "SO if we have N*N image size adn F*F filter size then after convolutionresult will be \n",
    "\n",
    "(N*N) * (F*F) = (N-F+1)*(N-F+1) # this formula apply in CNN \n",
    "\n",
    "* Stride and Padding\n",
    "  Stride denotes how many steps we are moving in each steps of Convolution. By default is one\n",
    "  Padding is the way to highlight the information in the image to extract or read it through filter\n",
    "\n",
    "  ## Layers in CNN\n",
    "  1. Input Layer\n",
    "  2. Convo layer (convo + ReLU)\n",
    "  3. Pooling layer\n",
    "  4. Fully connected lyer \n",
    "  5. Softmax/logistic layer\n",
    "  6. Output layer\n",
    "* Input layer\n",
    "  Input layer in CNN should contain inmage data Image data is represented by three dimensional matrix. you need to reshape it into a single column. Suppose you have an image of dimmention 28*28=784 if you have m training example then dimension of input will be (784,m)\n",
    "* Convo Layer \n",
    "  onvo layer is sometimes called feature extractor layer because feature of the image are get extracted within this layer. First of all, a part of image is connected to convo layer to perform convolutioanl opretion as Convo layer also contain ReLU activation to make all negative value to zero\n",
    "* Pooling Layer\n",
    "  Pooling layer is used to reduce the spatial volume of input image after convolution. it is used between two convolution layer . If we apply FC after convo layer without applying pooling or max pooling, Then it will be computatioinaly expensive and we don't want it So max pooling is only way to reduce the spatial volume of input image . The Pooling layer contain two hyperparameter Filter and Stride\n",
    "* Fully connected Layer (FC)\n",
    "  FC layer involves weights,biaseds,and neurons. it connect neurons in one layer to neurons in another layer, it used to classify images between different category by training\n",
    "* Softmax/logistic layer \n",
    "  softmax layer is the last layer of CNN. It reside at the end of FC layer . It is used for binnar classification and softmax is for multi-classification\n",
    "* Output Layer\n",
    "* Output layer contain the label which is in the form of one hot encoded.\n",
    "* "
   ]
  },
  {
   "cell_type": "code",
   "execution_count": 1,
   "metadata": {},
   "outputs": [],
   "source": [
    "import tensorflow as tf\n",
    "from tensorflow import keras\n",
    "import matplotlib.pyplot as plt\n",
    "\n",
    "# Load the MNist dataset\n",
    "\n",
    "(X_train,y_train),(X_test,y_test) = keras.datasets.mnist.load_data()\n",
    "\n",
    "# display the sample images\n",
    "\n",
    "#plt.figure(figsize=(10,10))\n",
    "#for i in range(25):\n",
    " #   plt.subplot(5,5,i+1)\n",
    "  #  plt.xticks([])\n",
    "   # plt.yticks([])\n",
    "    #plt.grid(False)\n",
    "  #  plt.imshow(X_train[i],cmap=plt.cm.binary)\n",
    "    #plt.xlabel(y_train[i])\n",
    "#plt.show()\n"
   ]
  },
  {
   "cell_type": "code",
   "execution_count": 2,
   "metadata": {},
   "outputs": [
    {
     "name": "stdout",
     "output_type": "stream",
     "text": [
      "we have 60000 images in the training set and 10000 images in the test set\n",
      "This size of the images is (28, 28)\n"
     ]
    }
   ],
   "source": [
    "# explore the data\n",
    "print(f'we have {len(X_train)} images in the training set and {len(X_test)} images in the test set')\n",
    "print(f'This size of the images is {X_train[0].shape}')"
   ]
  },
  {
   "cell_type": "code",
   "execution_count": 3,
   "metadata": {},
   "outputs": [
    {
     "data": {
      "text/plain": [
       "((60000, 28, 28), (60000,), (10000, 28, 28), (10000,))"
      ]
     },
     "execution_count": 3,
     "metadata": {},
     "output_type": "execute_result"
    }
   ],
   "source": [
    "X_train.shape,y_train.shape,X_test.shape,y_test.shape"
   ]
  },
  {
   "cell_type": "code",
   "execution_count": 4,
   "metadata": {},
   "outputs": [
    {
     "data": {
      "text/plain": [
       "<matplotlib.image.AxesImage at 0x1ea5e4573a0>"
      ]
     },
     "execution_count": 4,
     "metadata": {},
     "output_type": "execute_result"
    },
    {
     "data": {
      "image/png": "[encoded data removed]",
      "text/plain": [
       "<Figure size 640x480 with 1 Axes>"
      ]
     },
     "metadata": {},
     "output_type": "display_data"
    }
   ],
   "source": [
    "import matplotlib.pyplot as plt\n",
    "plt.imshow(X_train[1])"
   ]
  },
  {
   "cell_type": "code",
   "execution_count": 5,
   "metadata": {},
   "outputs": [
    {
     "data": {
      "text/plain": [
       "Text(0.5, 1.0, '5')"
      ]
     },
     "execution_count": 5,
     "metadata": {},
     "output_type": "execute_result"
    },
    {
     "data": {
      "image/png": "[encoded data removed]",
      "text/plain": [
       "<Figure size 300x300 with 1 Axes>"
      ]
     },
     "metadata": {},
     "output_type": "display_data"
    }
   ],
   "source": [
    "# show image in other form of color\n",
    "plt.figure(figsize=(3,3))\n",
    "plt.imshow(X_train[0],cmap='gray')\n",
    "plt.title(y_train[0])"
   ]
  },
  {
   "cell_type": "code",
   "execution_count": 6,
   "metadata": {},
   "outputs": [
    {
     "data": {
      "text/plain": [
       "(-0.5, 27.5, 27.5, -0.5)"
      ]
     },
     "execution_count": 6,
     "metadata": {},
     "output_type": "execute_result"
    },
    {
     "data": {
      "image/png": "[encoded data removed]",
      "text/plain": [
       "<Figure size 300x300 with 1 Axes>"
      ]
     },
     "metadata": {},
     "output_type": "display_data"
    }
   ],
   "source": [
    "# Create Each time Random images\n",
    "import random\n",
    "random_image = random.randint(0,len(X_train))\n",
    "plt.figure(figsize=(3,3))\n",
    "plt.imshow(X_train[random_image],cmap='gray')\n",
    "plt.title(y_train[random_image])\n",
    "plt.axis(False)\n"
   ]
  },
  {
   "cell_type": "code",
   "execution_count": 7,
   "metadata": {},
   "outputs": [
    {
     "data": {
      "image/png": "[encoded data removed]",
      "text/plain": [
       "<Figure size 640x480 with 1 Axes>"
      ]
     },
     "metadata": {},
     "output_type": "display_data"
    },
    {
     "name": "stdout",
     "output_type": "stream",
     "text": [
      "pixel values\n",
      "  0   0   0   0   0   0   0   0   0   0   0   0   0   0   0   0   0   0   0   0   0   0   0   0   0   0   0   0 \n",
      "  0   0   0   0   0   0   0   0   0   0   0   0   0   0   0   0   0   0   0   0   0   0   0   0   0   0   0   0 \n",
      "  0   0   0   0   0   0   0   0   0   0   0   0   0   0   0   0   0   0   0   0   0   0   0   0   0   0   0   0 \n",
      "  0   0   0   0   0   0   0   0   0   0   0   0   0   0   0   0   0   0   0   0   0   0   0   0   0   0   0   0 \n",
      "  0   0   0   0   0   0   0   0   0   0   0   0   0   0   0   0   0   0   0   0   0   0   0   0   0   0   0   0 \n",
      "  0   0   0   0   0   0   0   0   0   0   0   0   3  18  18  18 126 136 175  26 166 255 247 127   0   0   0   0 \n",
      "  0   0   0   0   0   0   0   0  30  36  94 154 170 253 253 253 253 253 225 172 253 242 195  64   0   0   0   0 \n",
      "  0   0   0   0   0   0   0  49 238 253 253 253 253 253 253 253 253 251  93  82  82  56  39   0   0   0   0   0 \n",
      "  0   0   0   0   0   0   0  18 219 253 253 253 253 253 198 182 247 241   0   0   0   0   0   0   0   0   0   0 \n",
      "  0   0   0   0   0   0   0   0  80 156 107 253 253 205  11   0  43 154   0   0   0   0   0   0   0   0   0   0 \n",
      "  0   0   0   0   0   0   0   0   0  14   1 154 253  90   0   0   0   0   0   0   0   0   0   0   0   0   0   0 \n",
      "  0   0   0   0   0   0   0   0   0   0   0 139 253 190   2   0   0   0   0   0   0   0   0   0   0   0   0   0 \n",
      "  0   0   0   0   0   0   0   0   0   0   0  11 190 253  70   0   0   0   0   0   0   0   0   0   0   0   0   0 \n",
      "  0   0   0   0   0   0   0   0   0   0   0   0  35 241 225 160 108   1   0   0   0   0   0   0   0   0   0   0 \n",
      "  0   0   0   0   0   0   0   0   0   0   0   0   0  81 240 253 253 119  25   0   0   0   0   0   0   0   0   0 \n",
      "  0   0   0   0   0   0   0   0   0   0   0   0   0   0  45 186 253 253 150  27   0   0   0   0   0   0   0   0 \n",
      "  0   0   0   0   0   0   0   0   0   0   0   0   0   0   0  16  93 252 253 187   0   0   0   0   0   0   0   0 \n",
      "  0   0   0   0   0   0   0   0   0   0   0   0   0   0   0   0   0 249 253 249  64   0   0   0   0   0   0   0 \n",
      "  0   0   0   0   0   0   0   0   0   0   0   0   0   0  46 130 183 253 253 207   2   0   0   0   0   0   0   0 \n",
      "  0   0   0   0   0   0   0   0   0   0   0   0  39 148 229 253 253 253 250 182   0   0   0   0   0   0   0   0 \n",
      "  0   0   0   0   0   0   0   0   0   0  24 114 221 253 253 253 253 201  78   0   0   0   0   0   0   0   0   0 \n",
      "  0   0   0   0   0   0   0   0  23  66 213 253 253 253 253 198  81   2   0   0   0   0   0   0   0   0   0   0 \n",
      "  0   0   0   0   0   0  18 171 219 253 253 253 253 195  80   9   0   0   0   0   0   0   0   0   0   0   0   0 \n",
      "  0   0   0   0  55 172 226 253 253 253 253 244 133  11   0   0   0   0   0   0   0   0   0   0   0   0   0   0 \n",
      "  0   0   0   0 136 253 253 253 212 135 132  16   0   0   0   0   0   0   0   0   0   0   0   0   0   0   0   0 \n",
      "  0   0   0   0   0   0   0   0   0   0   0   0   0   0   0   0   0   0   0   0   0   0   0   0   0   0   0   0 \n",
      "  0   0   0   0   0   0   0   0   0   0   0   0   0   0   0   0   0   0   0   0   0   0   0   0   0   0   0   0 \n",
      "  0   0   0   0   0   0   0   0   0   0   0   0   0   0   0   0   0   0   0   0   0   0   0   0   0   0   0   0 \n"
     ]
    }
   ],
   "source": [
    "# Display the first images in the datasets as a data matrix\n",
    "plt.imshow(X_train[0],cmap='gray')\n",
    "plt.xticks([])\n",
    "plt.yticks([])\n",
    "plt.grid(False)\n",
    "plt.show()\n",
    "\n",
    "# Display the value of each pixel in the images\n",
    "print('pixel values')\n",
    "for row in X_train[0]:\n",
    "    for pixel in row:\n",
    "        print('{:3}'.format(pixel),end=' ')\n",
    "    print()"
   ]
  },
  {
   "cell_type": "code",
   "execution_count": 2,
   "metadata": {},
   "outputs": [
    {
     "data": {
      "text/plain": [
       "((60000, 28, 28, 1), (10000, 28, 28, 1))"
      ]
     },
     "execution_count": 2,
     "metadata": {},
     "output_type": "execute_result"
    }
   ],
   "source": [
    "# Reshape the data as we do not have 3rd value of an image\n",
    "X_train = X_train.reshape(X_train.shape+(1,))\n",
    "X_test = X_test.reshape(X_test.shape+(1,))\n",
    "\n",
    "X_train.shape, X_test.shape"
   ]
  },
  {
   "cell_type": "markdown",
   "metadata": {},
   "source": [
    "# Normalize the data\n",
    "Neural network tend to like normalized data and perform better on it. Normalization, in simple terms, means to have the data at the same scale that is in out case between 0 and 1"
   ]
  },
  {
   "cell_type": "code",
   "execution_count": 3,
   "metadata": {},
   "outputs": [],
   "source": [
    "X_train = X_train / 255 # because 255 is the highest value in our pixel size\n",
    "X_test = X_test / 255 "
   ]
  },
  {
   "cell_type": "code",
   "execution_count": 4,
   "metadata": {},
   "outputs": [],
   "source": [
    "# also need to change the data type to float32\n",
    "X_train = X_train.astype('float32')\n",
    "X_test = X_test.astype('float32')"
   ]
  },
  {
   "cell_type": "code",
   "execution_count": 5,
   "metadata": {},
   "outputs": [],
   "source": [
    "# So lets build the model \n",
    "import tensorflow as tf\n",
    "from tensorflow.keras import layers\n",
    "\n",
    "# create a input layer\n",
    "input_layer = layers.Input(shape=(28,28,1)) # 28*28 pixel with 1 color channel (grayscale)\n",
    "\n",
    "# Build the CNN model\n",
    "model = tf.keras.Sequential([\n",
    "    input_layer, # input layer\n",
    "    layers.Conv2D(filters=10,kernel_size=(3,3),activation='relu'), # convolutional layer\n",
    "    # filter is the number of filters we want to apply\n",
    "    # kernel is the size of window/filter moving over the image \n",
    "    layers.Conv2D(filters=10,kernel_size=(3,3),activation='relu'),\n",
    "\n",
    "    layers.MaxPooling2D(), # pooling the above both layer\n",
    "\n",
    "    layers.Conv2D(filters=10,kernel_size=(3,3),activation='relu'),    \n",
    "    layers.Conv2D(filters=10,kernel_size=(3,3),activation='relu'),\n",
    "\n",
    "    layers.MaxPooling2D(),\n",
    "    layers.Flatten(),\n",
    "\n",
    "    layers.Dense(10,activation='softmax') # output layer \n",
    "\n",
    "\n",
    "\n",
    "])"
   ]
  },
  {
   "cell_type": "code",
   "execution_count": 6,
   "metadata": {},
   "outputs": [
    {
     "name": "stdout",
     "output_type": "stream",
     "text": [
      "Model: \"sequential\"\n",
      "_________________________________________________________________\n",
      " Layer (type)                Output Shape              Param #   \n",
      "=================================================================\n",
      " conv2d (Conv2D)             (None, 26, 26, 10)        100       \n",
      "                                                                 \n",
      " conv2d_1 (Conv2D)           (None, 24, 24, 10)        910       \n",
      "                                                                 \n",
      " max_pooling2d (MaxPooling2D  (None, 12, 12, 10)       0         \n",
      " )                                                               \n",
      "                                                                 \n",
      " conv2d_2 (Conv2D)           (None, 10, 10, 10)        910       \n",
      "                                                                 \n",
      " conv2d_3 (Conv2D)           (None, 8, 8, 10)          910       \n",
      "                                                                 \n",
      " max_pooling2d_1 (MaxPooling  (None, 4, 4, 10)         0         \n",
      " 2D)                                                             \n",
      "                                                                 \n",
      " flatten (Flatten)           (None, 160)               0         \n",
      "                                                                 \n",
      " dense (Dense)               (None, 10)                1610      \n",
      "                                                                 \n",
      "=================================================================\n",
      "Total params: 4,440\n",
      "Trainable params: 4,440\n",
      "Non-trainable params: 0\n",
      "_________________________________________________________________\n"
     ]
    }
   ],
   "source": [
    "model.summary()"
   ]
  },
  {
   "cell_type": "code",
   "execution_count": 7,
   "metadata": {},
   "outputs": [],
   "source": [
    "# compile the model \n",
    "model.compile(optimizer='adam',\n",
    "              loss=tf.keras.losses.SparseCategoricalCrossentropy(),\n",
    "              metrics=['accuracy'])"
   ]
  },
  {
   "cell_type": "code",
   "execution_count": 8,
   "metadata": {},
   "outputs": [
    {
     "name": "stdout",
     "output_type": "stream",
     "text": [
      "Epoch 1/5\n",
      "750/750 [==============================] - 181s 227ms/step - loss: 0.4289 - accuracy: 0.8681 - val_loss: 0.1446 - val_accuracy: 0.9559\n",
      "Epoch 2/5\n",
      "750/750 [==============================] - 144s 192ms/step - loss: 0.1372 - accuracy: 0.9589 - val_loss: 0.0976 - val_accuracy: 0.9727\n",
      "Epoch 3/5\n",
      "750/750 [==============================] - 136s 181ms/step - loss: 0.0959 - accuracy: 0.9706 - val_loss: 0.0762 - val_accuracy: 0.9777\n",
      "Epoch 4/5\n",
      "750/750 [==============================] - 137s 183ms/step - loss: 0.0762 - accuracy: 0.9769 - val_loss: 0.0720 - val_accuracy: 0.9793\n",
      "Epoch 5/5\n",
      "750/750 [==============================] - 148s 197ms/step - loss: 0.0641 - accuracy: 0.9805 - val_loss: 0.0658 - val_accuracy: 0.9801\n"
     ]
    },
    {
     "data": {
      "text/plain": [
       "<keras.callbacks.History at 0x2156e22cb50>"
      ]
     },
     "execution_count": 8,
     "metadata": {},
     "output_type": "execute_result"
    }
   ],
   "source": [
    "# train the model \n",
    "model.fit(X_train,y_train,epochs=5,batch_size=64,validation_split=0.2)"
   ]
  },
  {
   "cell_type": "code",
   "execution_count": 9,
   "metadata": {},
   "outputs": [],
   "source": [
    "# save the modol \n",
    "model.save('models/digit-recognizer.h5')"
   ]
  },
  {
   "cell_type": "code",
   "execution_count": null,
   "metadata": {},
   "outputs": [],
   "source": []
  }
 ],
 "metadata": {
  "kernelspec": {
   "display_name": "deeplearning",
   "language": "python",
   "name": "python3"
  },
  "language_info": {
   "codemirror_mode": {
    "name": "ipython",
    "version": 3
   },
   "file_extension": ".py",
   "mimetype": "text/x-python",
   "name": "python",
   "nbconvert_exporter": "python",
   "pygments_lexer": "ipython3",
   "version": "3.10.13"
  },
  "orig_nbformat": 4
 },
 "nbformat": 4,
 "nbformat_minor": 2
}
